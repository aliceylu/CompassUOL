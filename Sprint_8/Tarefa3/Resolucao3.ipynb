{
 "cells": [
  {
   "cell_type": "code",
   "execution_count": 1,
   "metadata": {},
   "outputs": [],
   "source": [
    "import random\n",
    "import time\n",
    "import os\n",
    "import names\n",
    "import csv"
   ]
  },
  {
   "attachments": {},
   "cell_type": "markdown",
   "metadata": {},
   "source": [
    "1. [Warm up]  Em Python, declare e inicialize uma lista contendo 250 inteiros obtidos de forma aleatória. Após, aplicar o método reverse sobre o conteúdo da lista e imprimir o resultado."
   ]
  },
  {
   "cell_type": "code",
   "execution_count": 2,
   "metadata": {},
   "outputs": [
    {
     "name": "stdout",
     "output_type": "stream",
     "text": [
      "[997, 991, 988, 986, 983, 981, 978, 978, 972, 969, 962, 961, 954, 954, 954, 953, 947, 939, 937, 934, 931, 927, 924, 921, 921, 912, 905, 903, 889, 874, 872, 869, 865, 863, 861, 855, 835, 817, 816, 816, 814, 813, 810, 802, 801, 794, 787, 784, 778, 773, 766, 762, 750, 737, 736, 729, 720, 717, 714, 713, 705, 705, 704, 702, 700, 699, 697, 697, 694, 689, 688, 687, 687, 676, 676, 675, 662, 661, 660, 658, 658, 655, 638, 635, 633, 629, 628, 625, 615, 609, 603, 590, 574, 570, 569, 569, 567, 560, 560, 556, 555, 553, 548, 547, 538, 534, 522, 518, 518, 516, 510, 509, 503, 497, 497, 494, 494, 493, 492, 491, 489, 486, 481, 478, 478, 476, 461, 456, 455, 446, 443, 437, 436, 430, 429, 424, 422, 422, 422, 420, 417, 415, 405, 391, 390, 387, 376, 376, 374, 371, 366, 365, 361, 355, 335, 332, 330, 325, 324, 324, 321, 316, 314, 309, 308, 297, 295, 290, 290, 282, 280, 278, 277, 262, 260, 259, 256, 251, 246, 243, 243, 240, 238, 238, 236, 232, 227, 225, 221, 209, 209, 206, 199, 198, 191, 188, 188, 187, 187, 184, 180, 179, 177, 173, 170, 169, 168, 167, 163, 153, 142, 138, 135, 134, 132, 131, 127, 127, 126, 124, 123, 123, 122, 118, 117, 105, 103, 89, 86, 84, 82, 68, 66, 62, 59, 35, 28, 26, 25, 21, 19, 19, 19, 18, 18, 17, 15, 14, 13, 13]\n"
     ]
    }
   ],
   "source": [
    "randlist = []\n",
    "for i in range(250):\n",
    "    randlist.append(random.randint(0, 1000))\n",
    "\n",
    "randlist.sort()\n",
    "print(randlist[::-1])"
   ]
  },
  {
   "attachments": {},
   "cell_type": "markdown",
   "metadata": {},
   "source": [
    "2. [Warm up] Em Python, declare e inicialize uma lista contendo o nome de 20 animais. Ordene-os em ordem crescente e itere sobre os itens, imprimindo um a um (você pode utilizar list comprehension aqui).  Na sequência, armazene o conteúdo da lista em um arquivo de texto, um item em cada linha, no formato CSV."
   ]
  },
  {
   "cell_type": "code",
   "execution_count": 3,
   "metadata": {},
   "outputs": [
    {
     "name": "stdout",
     "output_type": "stream",
     "text": [
      "Cachorro\n",
      "Camelo\n",
      "Capivara\n",
      "Coelho\n",
      "Coruja\n",
      "Elefante\n",
      "Esquilo\n",
      "Flamingo\n",
      "Gato\n",
      "Girafa\n",
      "Golfinho\n",
      "Hipopotamo\n",
      "Lagarto\n",
      "Macaco\n",
      "Ovelha\n",
      "Passaro\n",
      "Peixe\n",
      "Pinguim\n",
      "Tigre\n",
      "Urso\n"
     ]
    }
   ],
   "source": [
    "animais = ['Gato', 'Cachorro', 'Peixe', 'Tigre', 'Golfinho', 'Ovelha', 'Camelo', 'Flamingo', 'Capivara', 'Coruja', 'Elefante', 'Lagarto', 'Urso', 'Passaro', 'Hipopotamo', 'Girafa', 'Esquilo', 'Pinguim', 'Coelho', 'Macaco']\n",
    "\n",
    "[print(i) for i in sorted(animais)]\n",
    "\n",
    "with open(\"animais.csv\", 'w') as f:\n",
    "    f.write(\"\\n\".join(map(str, sorted(animais))))"
   ]
  },
  {
   "attachments": {},
   "cell_type": "markdown",
   "metadata": {},
   "source": [
    "3. [Laboratório] Elaborar um código Python para gerar um dataset de nomes de pessoas. Siga os passos a seguir para realizar a atividade:\n",
    "Passo 1:  Instalar biblioteca names para geração de nomes aleatórios. O comando de instalação é pip install names\n",
    "Passo 2 Importar as bibliotecas random, time, os e names em seu código\n",
    "Passo 3: Definir os parâmetros para geração do dataset, ou seja, a quantidades de nomes aleatórios e a quantidade de nomes que devem ser únicos.\n",
    "\n",
    "Nota: Quando trabalhamos com números randômicos em computação, na realidade, estamos falando de valores pseudoaleatórios, uma vez que o computador não consegue gerar números verdadeiramente aleatórios. No caso do Python, a função random.seed inicializa o algoritmo responsável pela geração de valores randômicos. É um processo determinístico,  pois os valores gerados serão sempre os mesmos se utilizado a mesma configuração de inicialização. A este número inicial chamamos de semente de aleatoriedade.\n",
    "\n",
    "Passo 4: Gerar os nomes aleatórios.\n",
    "\n",
    "Passo 5: Gerar um arquivo de texto contendo todos os nomes, um a cada linha. O nome do arquivo deve ser nomes_aleatorios.txt\n",
    "\n",
    "Passo 6: Abrir o arquivo e verificar seu conteúdo (editor de texto)"
   ]
  },
  {
   "cell_type": "code",
   "execution_count": 4,
   "metadata": {},
   "outputs": [
    {
     "name": "stdout",
     "output_type": "stream",
     "text": [
      "Gerando 10000000 nomes aleatórios\n"
     ]
    }
   ],
   "source": [
    "random.seed(40)\n",
    "qtd_nomes_unicos = 3000\n",
    "qtd_nomes_aleatorios = 10000000\n",
    "\n",
    "aux=[]\n",
    "\n",
    "for i in range(0, qtd_nomes_unicos):\n",
    "    aux.append(names.get_full_name())\n",
    "\n",
    "print(\"Gerando {} nomes aleatórios\".format(qtd_nomes_aleatorios))\n",
    "\n",
    "dados=[]\n",
    "\n",
    "for i in range(0,qtd_nomes_aleatorios):\n",
    "    dados.append(random.choice(aux))\n",
    "\n",
    "with open(\"nomes_aleatorios.txt\", 'w') as f:\n",
    "    f.write(\"\\n\".join(map(str, dados)))"
   ]
  }
 ],
 "metadata": {
  "kernelspec": {
   "display_name": "base",
   "language": "python",
   "name": "python3"
  },
  "language_info": {
   "codemirror_mode": {
    "name": "ipython",
    "version": 3
   },
   "file_extension": ".py",
   "mimetype": "text/x-python",
   "name": "python",
   "nbconvert_exporter": "python",
   "pygments_lexer": "ipython3",
   "version": "3.9.13"
  },
  "orig_nbformat": 4
 },
 "nbformat": 4,
 "nbformat_minor": 2
}
