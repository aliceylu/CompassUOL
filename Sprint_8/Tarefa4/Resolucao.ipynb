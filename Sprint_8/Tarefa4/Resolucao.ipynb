{
 "cells": [
  {
   "attachments": {},
   "cell_type": "markdown",
   "metadata": {},
   "source": [
    "1. Inicialmente iremos preparar o ambiente, definindo o diretório onde nosso código será desenvolvido. Para este diretório iremos copiar o arquivo nomes_aleatorios.txt.\n",
    "Após, em nosso script Python, devemos importar as bibliotecas necessárias:\n",
    "Nesta etapa, adicione código para ler o arquivo nomes_aleatorios.txt através do comando spark.read.csv. Carregue-o para dentro de um dataframe chamado df_nomes e, por fim, liste algumas linhas através do método show. Exemplo: df_nomes.show(5)"
   ]
  },
  {
   "cell_type": "code",
   "execution_count": 1,
   "metadata": {},
   "outputs": [
    {
     "name": "stdout",
     "output_type": "stream",
     "text": [
      "+----------------+\n",
      "|             _c0|\n",
      "+----------------+\n",
      "|  Frances Bennet|\n",
      "|   Jamie Russell|\n",
      "|  Edward Kistler|\n",
      "|   Sheila Maurer|\n",
      "|Donald Golightly|\n",
      "+----------------+\n",
      "only showing top 5 rows\n",
      "\n"
     ]
    }
   ],
   "source": [
    "from pyspark.sql import SparkSession\n",
    "import pyspark.sql.functions as F\n",
    "from pyspark import SparkContext, SQLContext\n",
    "import pandas as pd\n",
    "import random\n",
    "import numpy as np\n",
    "\n",
    "spark = (SparkSession \\\n",
    "            .builder \\\n",
    "            .master(\"local[*]\")\\\n",
    "            .appName(\"Resolucao\") \\\n",
    "            .getOrCreate())\n",
    "\n",
    "sc = SparkContext.getOrCreate()\n",
    "df_nomes = spark.read.csv(\"nomes_aleatorios.txt\")\n",
    "df_nomes.show(5)"
   ]
  },
  {
   "attachments": {},
   "cell_type": "markdown",
   "metadata": {},
   "source": [
    "2. No Python, é possível acessar uma coluna de um objeto dataframe pelo atributo (por exemplo df_nomes.nome) ou por índice (df_nomes['nome']). Enquanto a primeira forma é conveniente para a exploração de dados interativos, você deve usar o formato de índice, pois caso algum nome de coluna não esteja de acordo seu código irá falhar.\n",
    "\n",
    "Como não informamos no momento da leitura do arquivo, o Spark não identificou o Schema por padrão e definiu todas as colunas como string. Para ver o Schema, use o método df_nomes.printSchema().\n",
    "\n",
    "Nesta etapa, será necessário adicionar código para renomear a coluna para Nomes, imprimir o esquema e mostrar 10 linhas do dataframe."
   ]
  },
  {
   "cell_type": "code",
   "execution_count": 2,
   "metadata": {},
   "outputs": [
    {
     "name": "stdout",
     "output_type": "stream",
     "text": [
      "+-----------------+\n",
      "|            Nomes|\n",
      "+-----------------+\n",
      "|   Frances Bennet|\n",
      "|    Jamie Russell|\n",
      "|   Edward Kistler|\n",
      "|    Sheila Maurer|\n",
      "| Donald Golightly|\n",
      "|       David Gray|\n",
      "|      Joy Bennett|\n",
      "|      Paul Kriese|\n",
      "|Berniece Ornellas|\n",
      "|    Brian Farrell|\n",
      "+-----------------+\n",
      "only showing top 10 rows\n",
      "\n"
     ]
    }
   ],
   "source": [
    "df_nomes = df_nomes.withColumnRenamed(\"_c0\", \"Nomes\")\n",
    "df_nomes.show(10)"
   ]
  },
  {
   "attachments": {},
   "cell_type": "markdown",
   "metadata": {},
   "source": [
    "3. Ao dataframe (df_nomes), adicione nova coluna chamada Escolaridade e atribua para cada linha um dos três valores de forma aleatória: Fundamental, Medio ou Superior.\n",
    "\n",
    "Para esta etapa, evite usar funções de iteração, como por exemplo: for, while, entre outras. Dê preferência aos métodos oferecidos para próprio Spark."
   ]
  },
  {
   "cell_type": "code",
   "execution_count": 3,
   "metadata": {},
   "outputs": [
    {
     "name": "stdout",
     "output_type": "stream",
     "text": [
      "+-----------------+------------+\n",
      "|            Nomes|Escolaridade|\n",
      "+-----------------+------------+\n",
      "|   Frances Bennet|       Medio|\n",
      "|    Jamie Russell| Fundamental|\n",
      "|   Edward Kistler|       Medio|\n",
      "|    Sheila Maurer| Fundamental|\n",
      "| Donald Golightly|    Superior|\n",
      "|       David Gray|       Medio|\n",
      "|      Joy Bennett| Fundamental|\n",
      "|      Paul Kriese|       Medio|\n",
      "|Berniece Ornellas| Fundamental|\n",
      "|    Brian Farrell|    Superior|\n",
      "|   Kara Mcelwaine|       Medio|\n",
      "|    Tracy Herring| Fundamental|\n",
      "|  Howard Lazarine|       Medio|\n",
      "|     Leroy Strahl|       Medio|\n",
      "|     Ernest Hulet|    Superior|\n",
      "|     David Medina|    Superior|\n",
      "|   Lorenzo Woodis|       Medio|\n",
      "|      Page Marthe|    Superior|\n",
      "|   Herbert Morris|       Medio|\n",
      "|      Albert Leef|       Medio|\n",
      "|     Charles Hill| Fundamental|\n",
      "|  Helen Blackwell| Fundamental|\n",
      "|          Lois Ly|    Superior|\n",
      "|     Rebecca Snow| Fundamental|\n",
      "|      Frank Wiley|    Superior|\n",
      "| Wallace Mitchell|    Superior|\n",
      "|   Amanda Gravitt| Fundamental|\n",
      "|   Gabriel Colyer|       Medio|\n",
      "|         Mary Lee| Fundamental|\n",
      "|       Daryl Page|    Superior|\n",
      "|     Roxie Bernal| Fundamental|\n",
      "|   Wilfredo Grant| Fundamental|\n",
      "|   Katrina Graham| Fundamental|\n",
      "|  Jerry Chynoweth|       Medio|\n",
      "|      Jessie Jean|    Superior|\n",
      "|  Kenneth Rayburn|       Medio|\n",
      "|       Anita Ross| Fundamental|\n",
      "|   Mary Dillahunt| Fundamental|\n",
      "|       John Meyer|    Superior|\n",
      "|      Sandra Todd| Fundamental|\n",
      "|    Ricky Gilbert|       Medio|\n",
      "|    Michael Agnew|    Superior|\n",
      "|   Rosie Lovelady|    Superior|\n",
      "|      Donald Vogt|    Superior|\n",
      "| Flossie Anderson| Fundamental|\n",
      "|      Lisa Baxley|    Superior|\n",
      "|    Milton Dillon|    Superior|\n",
      "|       Ned Tester|    Superior|\n",
      "|     James Barton|       Medio|\n",
      "|    Lynne Dustman|       Medio|\n",
      "+-----------------+------------+\n",
      "only showing top 50 rows\n",
      "\n"
     ]
    }
   ],
   "source": [
    "def array_choice(col):\n",
    "    index = (F.rand()*F.size(col)).cast(\"int\")\n",
    "    return col[index]\n",
    "\n",
    "cols = list(map(lambda col_name: F.lit(col_name), ['Fundamental', 'Medio', 'Superior']))\n",
    "\n",
    "df_nomes = df_nomes.withColumn(\"Escolaridade\", array_choice(F.array(*cols)))\n",
    "\n",
    "df_nomes.show(50)\n"
   ]
  },
  {
   "attachments": {},
   "cell_type": "markdown",
   "metadata": {},
   "source": [
    "4. Ao dataframe (df_nomes), adicione nova coluna chamada Pais e atribua para cada linha o nome de um dos 13 países da América do Sul, de forma aleatória.\n",
    "\n",
    "Para esta etapa, evite usar funções de iteração, como por exemplo: for, while, entre outras. Dê preferência aos métodos oferecidos para próprio Spark."
   ]
  },
  {
   "cell_type": "code",
   "execution_count": 4,
   "metadata": {},
   "outputs": [
    {
     "name": "stdout",
     "output_type": "stream",
     "text": [
      "+-----------------+------------+---------------+\n",
      "|            Nomes|Escolaridade|           Pais|\n",
      "+-----------------+------------+---------------+\n",
      "|   Frances Bennet|       Medio|       Paraguai|\n",
      "|    Jamie Russell| Fundamental|        Uruguai|\n",
      "|   Edward Kistler|       Medio|      Argentina|\n",
      "|    Sheila Maurer| Fundamental|         Guiana|\n",
      "| Donald Golightly|    Superior|        Equador|\n",
      "|       David Gray|       Medio|        Uruguai|\n",
      "|      Joy Bennett| Fundamental|       Paraguai|\n",
      "|      Paul Kriese|       Medio|        Bolivia|\n",
      "|Berniece Ornellas| Fundamental|       Suriname|\n",
      "|    Brian Farrell|    Superior|       Colombia|\n",
      "|   Kara Mcelwaine|       Medio|       Paraguai|\n",
      "|    Tracy Herring| Fundamental|         Guiana|\n",
      "|  Howard Lazarine|       Medio|        Uruguai|\n",
      "|     Leroy Strahl|       Medio|       Suriname|\n",
      "|     Ernest Hulet|    Superior|       Paraguai|\n",
      "|     David Medina|    Superior|         Guiana|\n",
      "|   Lorenzo Woodis|       Medio|          Chile|\n",
      "|      Page Marthe|    Superior|         Guiana|\n",
      "|   Herbert Morris|       Medio|Guiana Francesa|\n",
      "|      Albert Leef|       Medio|        Bolivia|\n",
      "|     Charles Hill| Fundamental|        Bolivia|\n",
      "|  Helen Blackwell| Fundamental|          Chile|\n",
      "|          Lois Ly|    Superior|       Paraguai|\n",
      "|     Rebecca Snow| Fundamental|       Suriname|\n",
      "|      Frank Wiley|    Superior|       Suriname|\n",
      "| Wallace Mitchell|    Superior|       Colombia|\n",
      "|   Amanda Gravitt| Fundamental|       Suriname|\n",
      "|   Gabriel Colyer|       Medio|Guiana Francesa|\n",
      "|         Mary Lee| Fundamental|Guiana Francesa|\n",
      "|       Daryl Page|    Superior|       Colombia|\n",
      "|     Roxie Bernal| Fundamental|Guiana Francesa|\n",
      "|   Wilfredo Grant| Fundamental|           Peru|\n",
      "|   Katrina Graham| Fundamental|      Venezuela|\n",
      "|  Jerry Chynoweth|       Medio|        Uruguai|\n",
      "|      Jessie Jean|    Superior|        Equador|\n",
      "|  Kenneth Rayburn|       Medio|        Uruguai|\n",
      "|       Anita Ross| Fundamental|       Paraguai|\n",
      "|   Mary Dillahunt| Fundamental|        Uruguai|\n",
      "|       John Meyer|    Superior|        Equador|\n",
      "|      Sandra Todd| Fundamental|        Equador|\n",
      "|    Ricky Gilbert|       Medio|       Paraguai|\n",
      "|    Michael Agnew|    Superior|        Uruguai|\n",
      "|   Rosie Lovelady|    Superior|        Bolivia|\n",
      "|      Donald Vogt|    Superior|           Peru|\n",
      "| Flossie Anderson| Fundamental|        Bolivia|\n",
      "|      Lisa Baxley|    Superior|        Uruguai|\n",
      "|    Milton Dillon|    Superior|           Peru|\n",
      "|       Ned Tester|    Superior|       Colombia|\n",
      "|     James Barton|       Medio|        Equador|\n",
      "|    Lynne Dustman|       Medio|           Peru|\n",
      "+-----------------+------------+---------------+\n",
      "only showing top 50 rows\n",
      "\n"
     ]
    }
   ],
   "source": [
    "cols = list(map(lambda col_name: F.lit(col_name), ['Argentina', 'Bolivia', 'Brasil', 'Chile', 'Colombia', 'Equador', 'Guiana', 'Guiana Francesa', 'Paraguai', 'Peru', 'Suriname', 'Uruguai', 'Venezuela']))\n",
    "\n",
    "df_nomes = df_nomes.withColumn(\"Pais\", array_choice(F.array(*cols)))\n",
    "\n",
    "df_nomes.show(50)"
   ]
  },
  {
   "attachments": {},
   "cell_type": "markdown",
   "metadata": {},
   "source": [
    "5. Ao dataframe (df_nomes), adicione nova coluna chamada AnoNascimento e atribua para cada linha um valor de ano entre 1945 e 2010, de forma aleatória. \n",
    "\n",
    "\n",
    "\n",
    "Para esta etapa, evite usar funções de iteração, como por exemplo: for, while, entre outras. Dê preferência aos métodos oferecidos para próprio Spark."
   ]
  },
  {
   "cell_type": "code",
   "execution_count": 5,
   "metadata": {},
   "outputs": [
    {
     "name": "stdout",
     "output_type": "stream",
     "text": [
      "+-----------------+------------+---------------+-------------+\n",
      "|            Nomes|Escolaridade|           Pais|AnoNascimento|\n",
      "+-----------------+------------+---------------+-------------+\n",
      "|   Frances Bennet|       Medio|       Paraguai|         1962|\n",
      "|    Jamie Russell| Fundamental|        Uruguai|         1964|\n",
      "|   Edward Kistler|       Medio|      Argentina|         1984|\n",
      "|    Sheila Maurer| Fundamental|         Guiana|         1996|\n",
      "| Donald Golightly|    Superior|        Equador|         1995|\n",
      "|       David Gray|       Medio|        Uruguai|         1974|\n",
      "|      Joy Bennett| Fundamental|       Paraguai|         1967|\n",
      "|      Paul Kriese|       Medio|        Bolivia|         1978|\n",
      "|Berniece Ornellas| Fundamental|       Suriname|         1960|\n",
      "|    Brian Farrell|    Superior|       Colombia|         1947|\n",
      "|   Kara Mcelwaine|       Medio|       Paraguai|         2003|\n",
      "|    Tracy Herring| Fundamental|         Guiana|         1976|\n",
      "|  Howard Lazarine|       Medio|        Uruguai|         1986|\n",
      "|     Leroy Strahl|       Medio|       Suriname|         1988|\n",
      "|     Ernest Hulet|    Superior|       Paraguai|         1969|\n",
      "|     David Medina|    Superior|         Guiana|         1945|\n",
      "|   Lorenzo Woodis|       Medio|          Chile|         1970|\n",
      "|      Page Marthe|    Superior|         Guiana|         1999|\n",
      "|   Herbert Morris|       Medio|Guiana Francesa|         1976|\n",
      "|      Albert Leef|       Medio|        Bolivia|         1960|\n",
      "|     Charles Hill| Fundamental|        Bolivia|         1977|\n",
      "|  Helen Blackwell| Fundamental|          Chile|         1971|\n",
      "|          Lois Ly|    Superior|       Paraguai|         2003|\n",
      "|     Rebecca Snow| Fundamental|       Suriname|         1983|\n",
      "|      Frank Wiley|    Superior|       Suriname|         1971|\n",
      "| Wallace Mitchell|    Superior|       Colombia|         1977|\n",
      "|   Amanda Gravitt| Fundamental|       Suriname|         1994|\n",
      "|   Gabriel Colyer|       Medio|Guiana Francesa|         2000|\n",
      "|         Mary Lee| Fundamental|Guiana Francesa|         1964|\n",
      "|       Daryl Page|    Superior|       Colombia|         1994|\n",
      "|     Roxie Bernal| Fundamental|Guiana Francesa|         1980|\n",
      "|   Wilfredo Grant| Fundamental|           Peru|         1975|\n",
      "|   Katrina Graham| Fundamental|      Venezuela|         2010|\n",
      "|  Jerry Chynoweth|       Medio|        Uruguai|         1963|\n",
      "|      Jessie Jean|    Superior|        Equador|         2006|\n",
      "|  Kenneth Rayburn|       Medio|        Uruguai|         2009|\n",
      "|       Anita Ross| Fundamental|       Paraguai|         1947|\n",
      "|   Mary Dillahunt| Fundamental|        Uruguai|         1973|\n",
      "|       John Meyer|    Superior|        Equador|         2010|\n",
      "|      Sandra Todd| Fundamental|        Equador|         1983|\n",
      "|    Ricky Gilbert|       Medio|       Paraguai|         1997|\n",
      "|    Michael Agnew|    Superior|        Uruguai|         1987|\n",
      "|   Rosie Lovelady|    Superior|        Bolivia|         2000|\n",
      "|      Donald Vogt|    Superior|           Peru|         1960|\n",
      "| Flossie Anderson| Fundamental|        Bolivia|         1997|\n",
      "|      Lisa Baxley|    Superior|        Uruguai|         1955|\n",
      "|    Milton Dillon|    Superior|           Peru|         2010|\n",
      "|       Ned Tester|    Superior|       Colombia|         1964|\n",
      "|     James Barton|       Medio|        Equador|         1970|\n",
      "|    Lynne Dustman|       Medio|           Peru|         2006|\n",
      "+-----------------+------------+---------------+-------------+\n",
      "only showing top 50 rows\n",
      "\n"
     ]
    }
   ],
   "source": [
    "cols = list(map(lambda col_name: F.lit(col_name), ['1945', '1946', '1947', '1948', '1949', '1950', '1951', '1952', '1953', '1954', '1955', '1956', '1957', '1958', '1959', '1960', '1961', '1962', '1963', '1964', '1965', '1966', '1967', '1968', '1969', '1970', '1971', '1972', '1973', '1974', '1975', '1976', '1977', '1978', '1979', '1980', '1981', '1982', '1983', '1984', '1985', '1986', '1987', '1988', '1989', '1990', '1991', '1992', '1993', '1994', '1995', '1996', '1997', '1998', '1999', '2000', '2001', '2002', '2003', '2004', '2005', '2006', '2007', '2008', '2009', '2010']))\n",
    "\n",
    "df_nomes = df_nomes.withColumn(\"AnoNascimento\", array_choice(F.array(*cols)))\n",
    "\n",
    "df_nomes.show(50)"
   ]
  },
  {
   "attachments": {},
   "cell_type": "markdown",
   "metadata": {},
   "source": [
    "6. Usando o método select do dataframe (df_nomes), selecione as pessoas que nasceram neste século. Armazene o resultado em outro dataframe chamado df_select e mostre 10 nomes deste."
   ]
  },
  {
   "cell_type": "code",
   "execution_count": 6,
   "metadata": {},
   "outputs": [
    {
     "name": "stdout",
     "output_type": "stream",
     "text": [
      "+---------------+-------------+\n",
      "|          Nomes|AnoNascimento|\n",
      "+---------------+-------------+\n",
      "| Kara Mcelwaine|         2003|\n",
      "|        Lois Ly|         2003|\n",
      "| Gabriel Colyer|         2000|\n",
      "| Katrina Graham|         2010|\n",
      "|    Jessie Jean|         2006|\n",
      "|Kenneth Rayburn|         2009|\n",
      "|     John Meyer|         2010|\n",
      "| Rosie Lovelady|         2000|\n",
      "|  Milton Dillon|         2010|\n",
      "|  Lynne Dustman|         2006|\n",
      "+---------------+-------------+\n",
      "only showing top 10 rows\n",
      "\n"
     ]
    }
   ],
   "source": [
    "df_select = df_nomes.select('Nomes', 'AnoNascimento').where((df_nomes.AnoNascimento>1999))\n",
    "\n",
    "df_select.show(10)"
   ]
  },
  {
   "attachments": {},
   "cell_type": "markdown",
   "metadata": {},
   "source": [
    "7. Usando Spark SQL repita o processo da Pergunta 6. Lembre-se que, para trabalharmos com SparkSQL, precisamos registrar uma tabela temporária e depois executar o comando SQL. Abaixo um exemplo de como executar comandos SQL com SparkSQL:\n",
    "\n",
    "\n",
    "\n",
    "df_nomes.createOrReplaceTempView (\"pessoas\")\n",
    "\n",
    "spark.sql(\"select * from pessoas\").show()"
   ]
  },
  {
   "cell_type": "code",
   "execution_count": 7,
   "metadata": {},
   "outputs": [
    {
     "name": "stdout",
     "output_type": "stream",
     "text": [
      "+---------------+------------+---------------+-------------+\n",
      "|          Nomes|Escolaridade|           Pais|AnoNascimento|\n",
      "+---------------+------------+---------------+-------------+\n",
      "| Kara Mcelwaine|       Medio|       Paraguai|         2003|\n",
      "|        Lois Ly|    Superior|       Paraguai|         2003|\n",
      "| Gabriel Colyer|       Medio|Guiana Francesa|         2000|\n",
      "| Katrina Graham| Fundamental|      Venezuela|         2010|\n",
      "|    Jessie Jean|    Superior|        Equador|         2006|\n",
      "|Kenneth Rayburn|       Medio|        Uruguai|         2009|\n",
      "|     John Meyer|    Superior|        Equador|         2010|\n",
      "| Rosie Lovelady|    Superior|        Bolivia|         2000|\n",
      "|  Milton Dillon|    Superior|           Peru|         2010|\n",
      "|  Lynne Dustman|       Medio|           Peru|         2006|\n",
      "+---------------+------------+---------------+-------------+\n",
      "only showing top 10 rows\n",
      "\n"
     ]
    }
   ],
   "source": [
    "df_nomes.createOrReplaceTempView (\"pessoas\")\n",
    "\n",
    "spark.sql(\"select * from pessoas where AnoNascimento >= 2000\").show(10)"
   ]
  },
  {
   "attachments": {},
   "cell_type": "markdown",
   "metadata": {},
   "source": [
    "8. Usando o método select do Dataframe df_nomes, Conte o número de pessoas que são da geração Millennials (nascidos entre 1980 e 1994) no Dataset"
   ]
  },
  {
   "cell_type": "code",
   "execution_count": 8,
   "metadata": {},
   "outputs": [
    {
     "data": {
      "text/plain": [
       "2274547"
      ]
     },
     "execution_count": 8,
     "metadata": {},
     "output_type": "execute_result"
    }
   ],
   "source": [
    "df_nomes.select('Nomes').where((df_nomes.AnoNascimento>1979) & (df_nomes.AnoNascimento<1995)).count()"
   ]
  },
  {
   "attachments": {},
   "cell_type": "markdown",
   "metadata": {},
   "source": [
    "9. Repita o processo da Pergunta 8 utilizando Spark SQL"
   ]
  },
  {
   "cell_type": "code",
   "execution_count": 9,
   "metadata": {},
   "outputs": [
    {
     "name": "stdout",
     "output_type": "stream",
     "text": [
      "+----------+\n",
      "|Millenials|\n",
      "+----------+\n",
      "|   2274547|\n",
      "+----------+\n",
      "\n"
     ]
    }
   ],
   "source": [
    "df_nomes.createOrReplaceTempView (\"Millennials\")\n",
    "\n",
    "spark.sql(\"select count(*) as Millenials from Millennials where AnoNascimento BETWEEN 1980 and 1994\").show(10)"
   ]
  },
  {
   "attachments": {},
   "cell_type": "markdown",
   "metadata": {},
   "source": [
    "10. Usando Spark SQL, obtenha a quantidade de pessoas de cada país para uma das gerações abaixo. Armazene o resultado em um novo dataframe e depois mostre todas as linhas em ordem crescente de Pais, Geração e Quantidade\n",
    "\n",
    "- Baby Boomers – nascidos entre 1944 e 1964;\n",
    "\n",
    "- Geração X – nascidos entre 1965 e 1979;4\n",
    "\n",
    "- Millennials (Geração Y) – nascidos entre 1980 e 1994;\n",
    "\n",
    "- Geração Z – nascidos entre 1995 e 2015."
   ]
  },
  {
   "cell_type": "code",
   "execution_count": 10,
   "metadata": {},
   "outputs": [
    {
     "name": "stdout",
     "output_type": "stream",
     "text": [
      "+---------+--------------------+----------+\n",
      "|     Pais|             Geração|Quantidade|\n",
      "+---------+--------------------+----------+\n",
      "|Argentina|        Baby Boomers|    234157|\n",
      "|Argentina|           Geração X|    174387|\n",
      "|Argentina|           Geração z|    186728|\n",
      "|Argentina|Millennials (Gera...|    175437|\n",
      "|  Bolivia|        Baby Boomers|    232912|\n",
      "|  Bolivia|           Geração X|    174288|\n",
      "|  Bolivia|           Geração z|    186235|\n",
      "|  Bolivia|Millennials (Gera...|    174812|\n",
      "|   Brasil|        Baby Boomers|    233575|\n",
      "|   Brasil|           Geração X|    174955|\n",
      "|   Brasil|           Geração z|    186769|\n",
      "|   Brasil|Millennials (Gera...|    175494|\n",
      "|    Chile|        Baby Boomers|    232936|\n",
      "|    Chile|           Geração X|    175675|\n",
      "|    Chile|           Geração z|    186930|\n",
      "|    Chile|Millennials (Gera...|    174978|\n",
      "| Colombia|        Baby Boomers|    232614|\n",
      "| Colombia|           Geração X|    174271|\n",
      "| Colombia|           Geração z|    186535|\n",
      "| Colombia|Millennials (Gera...|    175368|\n",
      "+---------+--------------------+----------+\n",
      "only showing top 20 rows\n",
      "\n"
     ]
    }
   ],
   "source": [
    "df_nomes.createOrReplaceTempView (\"Tabela\")\n",
    "df_geracoes = spark.sql(\"\"\"select Pais, case when AnoNascimento BETWEEN 1944 and 1964 then 'Baby Boomers' when AnoNascimento BETWEEN 1965 and 1979 then 'Geração X' when AnoNascimento BETWEEN 1980 and 1994 then 'Millennials (Geração Y)' when AnoNascimento BETWEEN 1995 and 2015 then 'Geração z' end as `Geração`, count(*) as Quantidade from Tabela group by Pais, `Geração`\"\"\")\n",
    "\n",
    "df_geracoes.orderBy(\"Pais\", \"Geração\", \"Quantidade\").show()"
   ]
  }
 ],
 "metadata": {
  "kernelspec": {
   "display_name": "base",
   "language": "python",
   "name": "python3"
  },
  "language_info": {
   "codemirror_mode": {
    "name": "ipython",
    "version": 3
   },
   "file_extension": ".py",
   "mimetype": "text/x-python",
   "name": "python",
   "nbconvert_exporter": "python",
   "pygments_lexer": "ipython3",
   "version": "3.9.13"
  },
  "orig_nbformat": 4
 },
 "nbformat": 4,
 "nbformat_minor": 2
}
