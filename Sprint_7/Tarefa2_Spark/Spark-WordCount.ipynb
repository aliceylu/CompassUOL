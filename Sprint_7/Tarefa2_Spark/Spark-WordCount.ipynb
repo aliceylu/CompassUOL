{
 "cells": [
  {
   "cell_type": "code",
   "execution_count": null,
   "metadata": {},
   "outputs": [],
   "source": [
    "from pyspark import SparkConf, SparkContext\n",
    "\n",
    "conf = SparkConf().setMaster(\"local\").setAppName(\"word-counts\")\n",
    "sc = SparkContext(conf=conf)"
   ]
  },
  {
   "cell_type": "code",
   "execution_count": null,
   "metadata": {},
   "outputs": [],
   "source": [
    "arq = sc.textFile(\"/workspaces/NovoGit/Sprint7/Tarefa2/README.txt\")"
   ]
  },
  {
   "cell_type": "code",
   "execution_count": null,
   "metadata": {},
   "outputs": [],
   "source": [
    "import re\n",
    "\n",
    "def preprocess_word(word: str):\n",
    "    return re.sub(\"[^A-Za-z0-9]+\", \"\", word.lower())\n",
    "\n",
    "def preprocess_words(words: str):\n",
    "    return [preprocess_word(word) for word in words.split()]"
   ]
  },
  {
   "cell_type": "code",
   "execution_count": null,
   "metadata": {},
   "outputs": [],
   "source": [
    "words = arq.flatMap(preprocess_words)\n",
    "word_counts = words.map(lambda x: (x, 1)).reduceByKey(lambda x, y: x + y)\n",
    "word_counts_sorted = word_counts.map(lambda x: (x[1], x[0])).sortByKey(False)\n",
    "word_counts_sorted.collect()"
   ]
  }
 ],
 "metadata": {
  "kernelspec": {
   "display_name": "base",
   "language": "python",
   "name": "python3"
  },
  "language_info": {
   "codemirror_mode": {
    "name": "ipython",
    "version": 3
   },
   "file_extension": ".py",
   "mimetype": "text/x-python",
   "name": "python",
   "nbconvert_exporter": "python",
   "pygments_lexer": "ipython3",
   "version": "3.9.13"
  },
  "orig_nbformat": 4
 },
 "nbformat": 4,
 "nbformat_minor": 2
}
