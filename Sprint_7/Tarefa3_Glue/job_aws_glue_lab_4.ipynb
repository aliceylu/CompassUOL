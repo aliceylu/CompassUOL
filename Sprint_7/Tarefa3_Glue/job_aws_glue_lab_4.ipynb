{
	"metadata": {
		"toc-autonumbering": false,
		"toc-showcode": true,
		"toc-showmarkdowntxt": false,
		"toc-showtags": false,
		"kernelspec": {
			"display_name": "Glue PySpark",
			"language": "python",
			"name": "glue_pyspark"
		},
		"language_info": {
			"codemirror_mode": {
				"name": "python",
				"version": 3
			},
			"file_extension": ".py",
			"mimetype": "text/x-python",
			"name": "Python_Glue_Session",
			"pygments_lexer": "python3"
		}
	},
	"nbformat_minor": 4,
	"nbformat": 4,
	"cells": [
		{
			"cell_type": "code",
			"source": "import sys\nfrom awsglue.transforms import *\nfrom awsglue.utils import getResolvedOptions\nfrom pyspark.context import SparkContext\nfrom awsglue.context import GlueContext\nfrom awsglue.job import Job\nimport pyspark.sql.functions as F\nfrom pyspark.sql.types import StructField,IntegerType, StructType,StringType\nfrom awsglue.dynamicframe import DynamicFrame\n\nsc = SparkContext.getOrCreate()\nglueContext = GlueContext(sc)\nspark = glueContext.spark_session\njob = Job(glueContext)",
			"metadata": {
				"editable": true,
				"vscode": {
					"languageId": "python_glue_session"
				},
				"trusted": true
			},
			"execution_count": 11,
			"outputs": [
				{
					"name": "stdout",
					"text": "\n",
					"output_type": "stream"
				}
			]
		},
		{
			"cell_type": "markdown",
			"source": "\n- Na célula a seguir, adicione o código necessário para ler o conteúdo do arquivo _nomes.csv_ para um dataframe Spark.\n\n",
			"metadata": {}
		},
		{
			"cell_type": "code",
			"source": "dynamicFrame = glueContext.create_dynamic_frame.from_options(\n    connection_type=\"s3\",\n    connection_options={\"paths\": [\"s3://aylu-compasso/dados/nomes.csv\"]},\n    format=\"csv\",\n    format_options={\n        \"withHeader\": True,\n    },\n)\ndf = dynamicFrame.toDF()\ndf = df.withColumn(\"total\", df[\"total\"].cast(IntegerType()))\ndf = df.withColumn(\"ano\", df[\"ano\"].cast(IntegerType()))",
			"metadata": {
				"vscode": {
					"languageId": "python_glue_session"
				},
				"trusted": true
			},
			"execution_count": 12,
			"outputs": [
				{
					"name": "stdout",
					"text": "\n",
					"output_type": "stream"
				}
			]
		},
		{
			"cell_type": "markdown",
			"source": "- Imprima o esquema do dataframe",
			"metadata": {}
		},
		{
			"cell_type": "code",
			"source": "print(df)",
			"metadata": {
				"vscode": {
					"languageId": "python_glue_session"
				},
				"trusted": true
			},
			"execution_count": 3,
			"outputs": [
				{
					"name": "stdout",
					"text": "DataFrame[nome: string, sexo: string, total: int, ano: int]\n",
					"output_type": "stream"
				}
			]
		},
		{
			"cell_type": "markdown",
			"source": "- Na próxima célula, escreva o código necessário para alterar a caixa dos valores da coluna _nome_ para MAIÚSCULO",
			"metadata": {}
		},
		{
			"cell_type": "code",
			"source": "df.withColumnRenamed(\"nome\", \"NOME\").printSchema()",
			"metadata": {
				"vscode": {
					"languageId": "python_glue_session"
				},
				"trusted": true
			},
			"execution_count": 4,
			"outputs": [
				{
					"name": "stdout",
					"text": "root\n |-- NOME: string (nullable = true)\n |-- sexo: string (nullable = true)\n |-- total: integer (nullable = true)\n |-- ano: integer (nullable = true)\n",
					"output_type": "stream"
				}
			]
		},
		{
			"cell_type": "markdown",
			"source": "- Apresente a contagem de linhas contidas no dataframe",
			"metadata": {}
		},
		{
			"cell_type": "code",
			"source": "df.count()",
			"metadata": {
				"vscode": {
					"languageId": "python_glue_session"
				},
				"trusted": true
			},
			"execution_count": 5,
			"outputs": [
				{
					"name": "stdout",
					"text": "1825433\n",
					"output_type": "stream"
				}
			]
		},
		{
			"cell_type": "markdown",
			"source": "- Agora, apresente a contagem de nomes, agrupando os dados do dataframe pelas colunas _ano_ e _sexo_. Ordene os dados de modo que o ano mais recente aparece como primeiro registro do dataframe.",
			"metadata": {}
		},
		{
			"cell_type": "code",
			"source": "(df.groupBy(\"ano\",\"sexo\",\"NOME\")\n     .count()\n     .orderBy(\"ano\", ascending=False)\n     .show()\n)",
			"metadata": {
				"vscode": {
					"languageId": "python_glue_session"
				},
				"trusted": true
			},
			"execution_count": 6,
			"outputs": [
				{
					"name": "stdout",
					"text": "+----+----+---------+-----+\n| ano|sexo|     NOME|count|\n+----+----+---------+-----+\n|2014|   F|   Aubrey|    1|\n|2014|   F|    Ciara|    1|\n|2014|   F|   Camila|    1|\n|2014|   F| Caroline|    1|\n|2014|   F|  Madelyn|    1|\n|2014|   F|      Eva|    1|\n|2014|   F|      Ivy|    1|\n|2014|   F| Margaret|    1|\n|2014|   F|     Lola|    1|\n|2014|   F|   Teagan|    1|\n|2014|   F|    Brynn|    1|\n|2014|   F|    Katie|    1|\n|2014|   F|    Nadia|    1|\n|2014|   F|    Megan|    1|\n|2014|   F|   Baylee|    1|\n|2014|   F|  Mallory|    1|\n|2014|   F|Francesca|    1|\n|2014|   F|  Lorelei|    1|\n|2014|   F|    Raven|    1|\n|2014|   F|   Danica|    1|\n+----+----+---------+-----+\nonly showing top 20 rows\n",
					"output_type": "stream"
				}
			]
		},
		{
			"cell_type": "markdown",
			"source": "- Qual foi o nome feminino com mais registro e em que ano?",
			"metadata": {}
		},
		{
			"cell_type": "code",
			"source": "df2 = df.filter(F.col(\"sexo\").rlike(\"F\")).orderBy(\"total\", ascending=False).show(1)",
			"metadata": {
				"vscode": {
					"languageId": "python_glue_session"
				},
				"trusted": true
			},
			"execution_count": 13,
			"outputs": [
				{
					"name": "stdout",
					"text": "+-----+----+-----+----+\n| nome|sexo|total| ano|\n+-----+----+-----+----+\n|Linda|   F|99680|1947|\n+-----+----+-----+----+\nonly showing top 1 row\n",
					"output_type": "stream"
				}
			]
		},
		{
			"cell_type": "markdown",
			"source": "- Qual foi o nome masculino com mais registro e em que ano?",
			"metadata": {}
		},
		{
			"cell_type": "code",
			"source": "df3 = df.filter(F.col(\"sexo\").rlike(\"M\")).orderBy(\"total\", ascending=False).show(1)",
			"metadata": {
				"vscode": {
					"languageId": "python_glue_session"
				},
				"trusted": true
			},
			"execution_count": 14,
			"outputs": [
				{
					"name": "stdout",
					"text": "+-----+----+-----+----+\n| nome|sexo|total| ano|\n+-----+----+-----+----+\n|James|   M|94755|1947|\n+-----+----+-----+----+\nonly showing top 1 row\n",
					"output_type": "stream"
				}
			]
		},
		{
			"cell_type": "markdown",
			"source": "- Apresente o total de registros (masculinos e femininos) para cada ano presente no dataframe. Considere apenas as primeiras 10 linhas, ordenadas pelo ano, de forma crescente.",
			"metadata": {}
		},
		{
			"cell_type": "code",
			"source": "df4 = df.groupBy(\"sexo\", \"ano\").count().orderBy(\"ano\").show(10)",
			"metadata": {
				"vscode": {
					"languageId": "python_glue_session"
				},
				"trusted": true
			},
			"execution_count": 15,
			"outputs": [
				{
					"name": "stdout",
					"text": "+----+----+-----+\n|sexo| ano|count|\n+----+----+-----+\n|   F|1880|  942|\n|   M|1880| 1058|\n|   M|1881|  997|\n|   F|1881|  938|\n|   F|1882| 1028|\n|   M|1882| 1099|\n|   M|1883| 1030|\n|   F|1883| 1054|\n|   M|1884| 1125|\n|   F|1884| 1172|\n+----+----+-----+\nonly showing top 10 rows\n",
					"output_type": "stream"
				}
			]
		},
		{
			"cell_type": "markdown",
			"source": "- Escreva o conteúdo do dataframe com os valores de nome em maiúsculo no S3. Atenção aos requisitos:\n  - A gravação deve ocorrer no subdiretório _frequencia_registro_nomes_eua_ do path s3://\\<BUCKET\\>/lab-glue/\n  - O formato deve ser JSON\n  - O particionamento deverá ser realizado pelas colunas _sexo_ e _ano_ (nesta ordem)",
			"metadata": {}
		},
		{
			"cell_type": "code",
			"source": "df = df.withColumn(\"nome\", F.upper(df.nome))\n\nDynamicFrame = DynamicFrame.fromDF(df, glueContext, \"DynamicFrame\")\n\n\nglueContext.write_dynamic_frame \\\n    .from_options(\n        frame = DynamicFrame, \n        connection_type = \"s3\", \n        connection_options =  {\"path\":\"s3://aylu-compasso/lab-glue/frequencia_registro_nomes_eua\", \"partitionKeys\": [\"sexo\", \"ano\"]},\n        format = \"csv\")",
			"metadata": {
				"vscode": {
					"languageId": "python_glue_session"
				},
				"trusted": true
			},
			"execution_count": 21,
			"outputs": [
				{
					"name": "stdout",
					"text": "<awsglue.dynamicframe.DynamicFrame object at 0x7f5741e9c810>\n",
					"output_type": "stream"
				}
			]
		},
		{
			"cell_type": "code",
			"source": "job.commit()",
			"metadata": {
				"vscode": {
					"languageId": "python_glue_session"
				},
				"trusted": true
			},
			"execution_count": 22,
			"outputs": [
				{
					"name": "stdout",
					"text": "\n",
					"output_type": "stream"
				}
			]
		},
		{
			"cell_type": "code",
			"source": "",
			"metadata": {},
			"execution_count": null,
			"outputs": []
		}
	]
}